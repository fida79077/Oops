{
  "nbformat": 4,
  "nbformat_minor": 0,
  "metadata": {
    "colab": {
      "provenance": []
    },
    "kernelspec": {
      "name": "python3",
      "display_name": "Python 3"
    },
    "language_info": {
      "name": "python"
    }
  },
  "cells": [
    {
      "cell_type": "markdown",
      "source": [
        "OOPS\n",
        "\n",
        "Object-oriented programming paradigm thet uses objects and classes in prigramming.It aims to impliment real-world entities like inheritance , polymorphism , encapsulation etc.in the programming. The main concepts of OOPS is to bind the data the function that work on that together as a single unit so that no other part of the code can access this data"
      ],
      "metadata": {
        "id": "ZUtQ2M2LoN2i"
      }
    },
    {
      "cell_type": "markdown",
      "source": [
        "python is multiparadigm lamguage - procedural,functional,object oriented"
      ],
      "metadata": {
        "id": "T8pNsCowpQey"
      }
    },
    {
      "cell_type": "markdown",
      "source": [
        "Concept of OOP\n",
        "\n",
        "Abstraction\n",
        "\n",
        "Encapsulation\n",
        "\n",
        "Polymorphism\n",
        "\n",
        "Inheritance\n",
        "\n",
        "class\n",
        "\n",
        "\n",
        "Class Attribute\n",
        "\n",
        "Class is blueprint or template\n",
        "\n",
        "Blue print of objects\n",
        "\n",
        "Functions related to classes are methods\n",
        "\n",
        "Defined using \"class\" keyword\n",
        "\n",
        "Class identifier follows class keyword\n",
        "\n",
        "Conventionally class identifier starts with Cpital Character\n",
        "\n",
        "Book as class name\n",
        "\n"
      ],
      "metadata": {
        "id": "fUYv4nc0pcvH"
      }
    },
    {
      "cell_type": "markdown",
      "source": [
        "Self\n",
        "\n",
        "self represents the instance of class\n",
        "\n",
        "By using the \"self\" we can acces the attributes and methods of the class in place of it\n",
        "\n",
        "But it is advisable to use self because it increases the readability of the code"
      ],
      "metadata": {
        "id": "6dKvOrpsr5pb"
      }
    },
    {
      "cell_type": "code",
      "source": [
        "class Person:\n",
        "\n",
        "  def read(self):\n",
        "    print('person is reading')\n",
        "\n",
        "  def walk(self):\n",
        "    print('person is walking')\n",
        "\n",
        "\n",
        "obj = Person()\n",
        "\n",
        "obj.read()\n",
        "obj.walk()\n",
        "\n",
        "obj1 = Person()\n",
        "obj1.walk()"
      ],
      "metadata": {
        "colab": {
          "base_uri": "https://localhost:8080/"
        },
        "id": "thrc9SXjpPdP",
        "outputId": "744afed2-004a-430d-e8e0-0bada0b43f72"
      },
      "execution_count": 1,
      "outputs": [
        {
          "output_type": "stream",
          "name": "stdout",
          "text": [
            "person is reading\n",
            "person is walking\n",
            "person is walking\n"
          ]
        }
      ]
    },
    {
      "cell_type": "code",
      "source": [
        "class House:\n",
        "  def home(self,name,color,floor_material,roof_color):\n",
        "    name = input('enter the name ')\n",
        "    color = input('enter the color ')\n",
        "    floor_material =input ('enter the floor_material ')\n",
        "    roof_color = input('enter the roof_color ')\n",
        "\n",
        "    self.name = name\n",
        "    self.color = color\n",
        "    self.floor_material = floor_material\n",
        "    self.roof_color = roof_color\n",
        "\n",
        "  def myhome(self):\n",
        "    print(\"person name is %s color is %s floor_material is %s roof_color is %s\"%(self.name,self.color,self.floor_material,self.roof_color))\n",
        "\n",
        "raju = House()\n",
        "\n",
        "raju.home('arifa','green','granite','blue')\n",
        "\n",
        "raju.myhome()"
      ],
      "metadata": {
        "colab": {
          "base_uri": "https://localhost:8080/"
        },
        "id": "Ij6qfUJjuPuj",
        "outputId": "a52dc402-ef61-4442-f8b4-dbae23e7b258"
      },
      "execution_count": 3,
      "outputs": [
        {
          "output_type": "stream",
          "name": "stdout",
          "text": [
            "enter the name ammu\n",
            "enter the color green\n",
            "enter the floor_material tile\n",
            "enter the roof_color red\n",
            "person name is ammu color is green floor_material is tile roof_color is red\n"
          ]
        }
      ]
    },
    {
      "cell_type": "code",
      "source": [],
      "metadata": {
        "id": "m_NGAZGS1Qpa"
      },
      "execution_count": null,
      "outputs": []
    }
  ]
}